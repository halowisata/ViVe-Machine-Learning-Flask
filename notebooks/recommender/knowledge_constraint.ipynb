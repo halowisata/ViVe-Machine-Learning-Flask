{
 "cells": [
  {
   "attachments": {},
   "cell_type": "markdown",
   "metadata": {},
   "source": [
    "## this is the recommendation based on constraint"
   ]
  },
  {
   "cell_type": "code",
   "execution_count": 50,
   "metadata": {},
   "outputs": [],
   "source": [
    "import pandas as pd"
   ]
  },
  {
   "cell_type": "code",
   "execution_count": 51,
   "metadata": {},
   "outputs": [],
   "source": [
    "df = pd.read_csv(\"../data/datasets/updated/tourism_with_id_updated.csv\")"
   ]
  },
  {
   "cell_type": "code",
   "execution_count": 52,
   "metadata": {},
   "outputs": [
    {
     "data": {
      "text/html": [
       "<div>\n",
       "<style scoped>\n",
       "    .dataframe tbody tr th:only-of-type {\n",
       "        vertical-align: middle;\n",
       "    }\n",
       "\n",
       "    .dataframe tbody tr th {\n",
       "        vertical-align: top;\n",
       "    }\n",
       "\n",
       "    .dataframe thead th {\n",
       "        text-align: right;\n",
       "    }\n",
       "</style>\n",
       "<table border=\"1\" class=\"dataframe\">\n",
       "  <thead>\n",
       "    <tr style=\"text-align: right;\">\n",
       "      <th></th>\n",
       "      <th>Place_Id</th>\n",
       "      <th>Place_Name</th>\n",
       "      <th>Description</th>\n",
       "      <th>City</th>\n",
       "      <th>Price</th>\n",
       "      <th>Rating</th>\n",
       "      <th>Time_Minutes</th>\n",
       "      <th>Coordinate</th>\n",
       "      <th>Lat</th>\n",
       "      <th>Long</th>\n",
       "      <th>new_category</th>\n",
       "    </tr>\n",
       "  </thead>\n",
       "  <tbody>\n",
       "    <tr>\n",
       "      <th>0</th>\n",
       "      <td>1</td>\n",
       "      <td>Monumen Nasional</td>\n",
       "      <td>Monumen Nasional atau yang populer disingkat d...</td>\n",
       "      <td>Jakarta</td>\n",
       "      <td>20000</td>\n",
       "      <td>4.6</td>\n",
       "      <td>15.0</td>\n",
       "      <td>{'lat': -6.1753924, 'lng': 106.8271528}</td>\n",
       "      <td>-6.175392</td>\n",
       "      <td>106.827153</td>\n",
       "      <td>['Budaya', 'Keluarga']</td>\n",
       "    </tr>\n",
       "    <tr>\n",
       "      <th>1</th>\n",
       "      <td>2</td>\n",
       "      <td>Kota Tua</td>\n",
       "      <td>Kota tua di Jakarta, yang juga bernama Kota Tu...</td>\n",
       "      <td>Jakarta</td>\n",
       "      <td>0</td>\n",
       "      <td>4.6</td>\n",
       "      <td>90.0</td>\n",
       "      <td>{'lat': -6.137644799999999, 'lng': 106.8171245}</td>\n",
       "      <td>-6.137645</td>\n",
       "      <td>106.817125</td>\n",
       "      <td>['Budaya']</td>\n",
       "    </tr>\n",
       "    <tr>\n",
       "      <th>2</th>\n",
       "      <td>3</td>\n",
       "      <td>Dunia Fantasi</td>\n",
       "      <td>Dunia Fantasi atau disebut juga Dufan adalah t...</td>\n",
       "      <td>Jakarta</td>\n",
       "      <td>270000</td>\n",
       "      <td>4.6</td>\n",
       "      <td>360.0</td>\n",
       "      <td>{'lat': -6.125312399999999, 'lng': 106.8335377}</td>\n",
       "      <td>-6.125312</td>\n",
       "      <td>106.833538</td>\n",
       "      <td>['Hiburan', 'Keluarga']</td>\n",
       "    </tr>\n",
       "    <tr>\n",
       "      <th>3</th>\n",
       "      <td>4</td>\n",
       "      <td>Taman Mini Indonesia Indah (TMII)</td>\n",
       "      <td>Taman Mini Indonesia Indah merupakan suatu kaw...</td>\n",
       "      <td>Jakarta</td>\n",
       "      <td>10000</td>\n",
       "      <td>4.5</td>\n",
       "      <td>NaN</td>\n",
       "      <td>{'lat': -6.302445899999999, 'lng': 106.8951559}</td>\n",
       "      <td>-6.302446</td>\n",
       "      <td>106.895156</td>\n",
       "      <td>['Budaya', 'Hiburan']</td>\n",
       "    </tr>\n",
       "    <tr>\n",
       "      <th>4</th>\n",
       "      <td>5</td>\n",
       "      <td>Atlantis Water Adventure</td>\n",
       "      <td>Atlantis Water Adventure atau dikenal dengan A...</td>\n",
       "      <td>Jakarta</td>\n",
       "      <td>94000</td>\n",
       "      <td>4.5</td>\n",
       "      <td>60.0</td>\n",
       "      <td>{'lat': -6.12419, 'lng': 106.839134}</td>\n",
       "      <td>-6.124190</td>\n",
       "      <td>106.839134</td>\n",
       "      <td>['Petualangan', 'Hiburan']</td>\n",
       "    </tr>\n",
       "  </tbody>\n",
       "</table>\n",
       "</div>"
      ],
      "text/plain": [
       "   Place_Id                         Place_Name  \\\n",
       "0         1                   Monumen Nasional   \n",
       "1         2                           Kota Tua   \n",
       "2         3                      Dunia Fantasi   \n",
       "3         4  Taman Mini Indonesia Indah (TMII)   \n",
       "4         5           Atlantis Water Adventure   \n",
       "\n",
       "                                         Description     City   Price  Rating  \\\n",
       "0  Monumen Nasional atau yang populer disingkat d...  Jakarta   20000     4.6   \n",
       "1  Kota tua di Jakarta, yang juga bernama Kota Tu...  Jakarta       0     4.6   \n",
       "2  Dunia Fantasi atau disebut juga Dufan adalah t...  Jakarta  270000     4.6   \n",
       "3  Taman Mini Indonesia Indah merupakan suatu kaw...  Jakarta   10000     4.5   \n",
       "4  Atlantis Water Adventure atau dikenal dengan A...  Jakarta   94000     4.5   \n",
       "\n",
       "   Time_Minutes                                       Coordinate       Lat  \\\n",
       "0          15.0          {'lat': -6.1753924, 'lng': 106.8271528} -6.175392   \n",
       "1          90.0  {'lat': -6.137644799999999, 'lng': 106.8171245} -6.137645   \n",
       "2         360.0  {'lat': -6.125312399999999, 'lng': 106.8335377} -6.125312   \n",
       "3           NaN  {'lat': -6.302445899999999, 'lng': 106.8951559} -6.302446   \n",
       "4          60.0             {'lat': -6.12419, 'lng': 106.839134} -6.124190   \n",
       "\n",
       "         Long                new_category  \n",
       "0  106.827153      ['Budaya', 'Keluarga']  \n",
       "1  106.817125                  ['Budaya']  \n",
       "2  106.833538     ['Hiburan', 'Keluarga']  \n",
       "3  106.895156       ['Budaya', 'Hiburan']  \n",
       "4  106.839134  ['Petualangan', 'Hiburan']  "
      ]
     },
     "execution_count": 52,
     "metadata": {},
     "output_type": "execute_result"
    }
   ],
   "source": [
    "df.head()"
   ]
  },
  {
   "cell_type": "code",
   "execution_count": 53,
   "metadata": {},
   "outputs": [],
   "source": [
    "unused_column = [\"Description\", \"Time_Minutes\", \"Coordinate\"]"
   ]
  },
  {
   "cell_type": "code",
   "execution_count": 54,
   "metadata": {},
   "outputs": [],
   "source": [
    "df.drop(unused_column, axis=1,inplace=True)"
   ]
  },
  {
   "cell_type": "code",
   "execution_count": 55,
   "metadata": {},
   "outputs": [],
   "source": [
    "# knowledge based on paper\n",
    "def mood_constraint(mood):\n",
    "    mood = mood.capitalize()\n",
    "    preferences = []\n",
    "    if mood == \"Senang\" or mood == \"Sedih\":\n",
    "        preferences = [\"Petualangan\", \"Keluarga\", \"Romantis\", \"Budaya\"]\n",
    "    elif mood == \"Tenang\" or mood == \"Marah\":\n",
    "        preferences = [\"Alam\", \"Hiburan\", \"Olahraga\", \"Relaksasi\"]\n",
    "    \n",
    "    return preferences"
   ]
  },
  {
   "cell_type": "code",
   "execution_count": 56,
   "metadata": {},
   "outputs": [],
   "source": [
    "def filter_by_budget(df, column_name, category):\n",
    "    category = category.capitalize()\n",
    "    quartiles = df[column_name].quantile([0.25, 0.5, 0.75])\n",
    "    q1 = quartiles[0.25]\n",
    "    q2 = quartiles[0.5]\n",
    "    q3 = quartiles[0.75]\n",
    "\n",
    "    if category == \"Low\":\n",
    "        filtered_df = df[df[column_name] <= q1]\n",
    "    elif category == \"Medium\":\n",
    "        filtered_df = df[(df[column_name] > q1) & (df[column_name] <= q2)]\n",
    "    elif category == \"High\":\n",
    "        filtered_df = df[((df[column_name] > q2) & (df[column_name] <= q3)) | (df[column_name] > q3) ]\n",
    "    elif category == \"Random\":\n",
    "        filtered_df = df\n",
    "    else:\n",
    "        filtered_df = []\n",
    "\n",
    "    return filtered_df"
   ]
  },
  {
   "cell_type": "code",
   "execution_count": 57,
   "metadata": {},
   "outputs": [],
   "source": [
    "def filter_by_city(df, city):\n",
    "    city = city.capitalize()\n",
    "    filtered_df = df[df[\"City\"] == city]\n",
    "    return filtered_df"
   ]
  },
  {
   "cell_type": "code",
   "execution_count": 58,
   "metadata": {},
   "outputs": [],
   "source": [
    "def knowledge_recommender(df, mood, budget, city):\n",
    "    recommended_destinations = []\n",
    "    \n",
    "    mood_preferences = mood_constraint(mood)\n",
    "    \n",
    "    # filter dataset based on budget\n",
    "    filtered_df = filter_by_budget(df,\"Price\",budget)\n",
    "\n",
    "    # filter dataset based on city\n",
    "    filtered_df = filter_by_city(filtered_df,city)\n",
    "\n",
    "    #print(filtered_df)\n",
    "    recommended_destinations = filtered_df[filtered_df[\"new_category\"].apply(lambda x: any(preference in x for preference in mood_preferences))]\n",
    "\n",
    "    \n",
    "    return recommended_destinations"
   ]
  },
  {
   "cell_type": "code",
   "execution_count": 59,
   "metadata": {},
   "outputs": [],
   "source": [
    "knowledge_recommendation = knowledge_recommender(df, 'Tenang', 'High', \"Bandung\")"
   ]
  },
  {
   "cell_type": "code",
   "execution_count": 60,
   "metadata": {},
   "outputs": [],
   "source": [
    "knowledge_recommendation.sort_values(\"Rating\", ascending=False, inplace=True)"
   ]
  },
  {
   "cell_type": "code",
   "execution_count": 61,
   "metadata": {},
   "outputs": [],
   "source": [
    "dropped_column = [\"Place_Name\", \"City\", \"Price\", \"Lat\", \"Long\", \"new_category\",\"Rating\"]"
   ]
  },
  {
   "cell_type": "code",
   "execution_count": 62,
   "metadata": {},
   "outputs": [],
   "source": [
    "knowledge_recommendation.drop(dropped_column, axis=1, inplace=True)"
   ]
  },
  {
   "cell_type": "code",
   "execution_count": 63,
   "metadata": {},
   "outputs": [
    {
     "data": {
      "text/html": [
       "<div>\n",
       "<style scoped>\n",
       "    .dataframe tbody tr th:only-of-type {\n",
       "        vertical-align: middle;\n",
       "    }\n",
       "\n",
       "    .dataframe tbody tr th {\n",
       "        vertical-align: top;\n",
       "    }\n",
       "\n",
       "    .dataframe thead th {\n",
       "        text-align: right;\n",
       "    }\n",
       "</style>\n",
       "<table border=\"1\" class=\"dataframe\">\n",
       "  <thead>\n",
       "    <tr style=\"text-align: right;\">\n",
       "      <th></th>\n",
       "      <th>Place_Id</th>\n",
       "    </tr>\n",
       "  </thead>\n",
       "  <tbody>\n",
       "    <tr>\n",
       "      <th>261</th>\n",
       "      <td>262</td>\n",
       "    </tr>\n",
       "    <tr>\n",
       "      <th>288</th>\n",
       "      <td>289</td>\n",
       "    </tr>\n",
       "    <tr>\n",
       "      <th>269</th>\n",
       "      <td>270</td>\n",
       "    </tr>\n",
       "  </tbody>\n",
       "</table>\n",
       "</div>"
      ],
      "text/plain": [
       "     Place_Id\n",
       "261       262\n",
       "288       289\n",
       "269       270"
      ]
     },
     "execution_count": 63,
     "metadata": {},
     "output_type": "execute_result"
    }
   ],
   "source": [
    "knowledge_recommendation.head(3)"
   ]
  },
  {
   "cell_type": "code",
   "execution_count": 64,
   "metadata": {},
   "outputs": [],
   "source": [
    "def give_scoring(df):\n",
    "    # this function will return score for each user recommended items\n",
    "    df['score'] = 1\n",
    "    return df"
   ]
  },
  {
   "cell_type": "code",
   "execution_count": 65,
   "metadata": {},
   "outputs": [],
   "source": [
    "knowledge_recommendation = give_scoring(knowledge_recommendation)"
   ]
  },
  {
   "cell_type": "code",
   "execution_count": 66,
   "metadata": {},
   "outputs": [],
   "source": [
    "knowledge_recommendation.to_csv('../data/output/knowledge_recommendation.csv', index=False)"
   ]
  },
  {
   "cell_type": "code",
   "execution_count": null,
   "metadata": {},
   "outputs": [],
   "source": []
  }
 ],
 "metadata": {
  "kernelspec": {
   "display_name": "base",
   "language": "python",
   "name": "python3"
  },
  "language_info": {
   "codemirror_mode": {
    "name": "ipython",
    "version": 3
   },
   "file_extension": ".py",
   "mimetype": "text/x-python",
   "name": "python",
   "nbconvert_exporter": "python",
   "pygments_lexer": "ipython3",
   "version": "3.9.12"
  },
  "orig_nbformat": 4
 },
 "nbformat": 4,
 "nbformat_minor": 2
}
