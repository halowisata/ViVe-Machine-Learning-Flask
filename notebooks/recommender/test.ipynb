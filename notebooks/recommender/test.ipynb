{
 "cells": [
  {
   "attachments": {},
   "cell_type": "markdown",
   "metadata": {},
   "source": [
    "# introduction"
   ]
  },
  {
   "attachments": {},
   "cell_type": "markdown",
   "metadata": {},
   "source": [
    "Our recommender system employs a hybrid approach to provide personalized travel destination recommendations to users. By combining a knowledge-based recommender system with collaborative filtering, our model leverages the strengths of both approaches to deliver more accurate and diverse recommendations"
   ]
  },
  {
   "attachments": {},
   "cell_type": "markdown",
   "metadata": {},
   "source": [
    "References:\n",
    "https://michael-fuchs-python.netlify.app/2020/10/01/recommendation-systems-knowledged-based-recommender/"
   ]
  },
  {
   "attachments": {},
   "cell_type": "markdown",
   "metadata": {},
   "source": [
    "## example of constraint based"
   ]
  },
  {
   "cell_type": "code",
   "execution_count": 1,
   "metadata": {},
   "outputs": [
    {
     "name": "stdout",
     "output_type": "stream",
     "text": [
      "Recommended destinations:\n",
      "- Paris\n"
     ]
    }
   ],
   "source": [
    "# Importing necessary libraries\n",
    "from collections import defaultdict\n",
    "\n",
    "# Creating a dictionary of travel destinations with their attributes\n",
    "destinations = {\n",
    "    \"Paris\": {\n",
    "        \"Attractions\": [\"Eiffel Tower\", \"Louvre Museum\", \"Notre-Dame Cathedral\"],\n",
    "        \"Activities\": [\"Sightseeing\", \"Museum Tours\", \"Cruise on the Seine\"],\n",
    "        \"Budget\": \"Medium\",\n",
    "        \"Climate\": \"Temperate\",\n",
    "    },\n",
    "    \"Rome\": {\n",
    "        \"Attractions\": [\"Colosseum\", \"Vatican City\", \"Trevi Fountain\"],\n",
    "        \"Activities\": [\"Historical Tours\", \"Cultural Exploration\", \"Food Tasting\"],\n",
    "        \"Budget\": \"High\",\n",
    "        \"Climate\": \"Mediterranean\",\n",
    "    },\n",
    "    \"Tokyo\": {\n",
    "        \"Attractions\": [\"Tokyo Tower\", \"Imperial Palace\", \"Shibuya Crossing\"],\n",
    "        \"Activities\": [\"Shopping\", \"Sushi Tasting\", \"Traditional Tea Ceremony\"],\n",
    "        \"Budget\": \"High\",\n",
    "        \"Climate\": \"Temperate\",\n",
    "    },\n",
    "    # Add more destinations with their attributes\n",
    "}\n",
    "\n",
    "# Function to recommend travel destinations based on user constraints\n",
    "def recommend_destination(budget, climate, preferences):\n",
    "    recommended_destinations = []\n",
    "    \n",
    "    for destination, attributes in destinations.items():\n",
    "        if attributes[\"Budget\"] == budget and attributes[\"Climate\"] == climate:\n",
    "            # Check if user preferences match the destination attributes\n",
    "            if all(pref in attributes[\"Activities\"] for pref in preferences):\n",
    "                recommended_destinations.append(destination)\n",
    "    \n",
    "    return recommended_destinations\n",
    "\n",
    "# Example usage\n",
    "user_budget = \"Medium\"\n",
    "user_climate = \"Temperate\"\n",
    "user_preferences = [\"Sightseeing\", \"Museum Tours\"]\n",
    "\n",
    "recommendations = recommend_destination(user_budget, user_climate, user_preferences)\n",
    "if recommendations:\n",
    "    print(\"Recommended destinations:\")\n",
    "    for destination in recommendations:\n",
    "        print(\"- \" + destination)\n",
    "else:\n",
    "    print(\"No destinations match your criteria.\")"
   ]
  },
  {
   "attachments": {},
   "cell_type": "markdown",
   "metadata": {},
   "source": [
    "# Model outline"
   ]
  },
  {
   "attachments": {},
   "cell_type": "markdown",
   "metadata": {},
   "source": [
    "1. Upon launching the app, users will have the opportunity to input their current mood, allowing us to consider their emotional state when providing recommendations.\n",
    "\n",
    "2. Subsequently, users will be prompted to complete a brief survey designed to gather additional information and refine our recommendations. This survey helps us understand their preferences in more detail, enabling us to offer more relevant suggestions.\n",
    "\n",
    "3. Leveraging the information provided in the survey and taking into account the user's previous preferences, we collect recommendations using collaborative filtering techniques. This approach ensures that our recommendations offer a diverse range of options, taking into consideration the preferences of users with similar tastes.\n",
    "\n",
    "4. Finally, we present users with a curated selection of the top five travel destinations. These recommendations are carefully chosen based on the user's input, preferences, and the diversity aspect introduced through collaborative filtering. Each destination comes with key highlights and attractions to assist users in making informed decisions."
   ]
  },
  {
   "cell_type": "code",
   "execution_count": 3,
   "metadata": {},
   "outputs": [],
   "source": [
    "import pandas as pd\n",
    "import numpy as np"
   ]
  },
  {
   "cell_type": "code",
   "execution_count": 8,
   "metadata": {},
   "outputs": [],
   "source": [
    "class Preparation:\n",
    "    def __init__(self):\n",
    "        self.user_mood = None\n",
    "        self.user_preferences = {}\n",
    "\n",
    "        self.input_user_mood()\n",
    "        self.fill_survey()\n",
    "\n",
    "    def input_user_mood(self):\n",
    "        valid_mood = [\"happy\", \"sad\", \"calm\", \"angry\"]\n",
    "        input_mood = str(input(\"Please enter your current mood (happy, sad, angry, calm): \")).lower()\n",
    "        if (input_mood in valid_mood):\n",
    "            self.user_mood = input_mood\n",
    "        else:\n",
    "            print(\"Invalid input\")\n",
    "            self.input_user_mood()\n",
    "\n",
    "    def fill_survey(self):\n",
    "        print(\"Please answer the following questions to help us provide relevant recommendations:\")\n",
    "        valid_budget = [\"high\", \"medium\", \"low\", \"random\"]\n",
    "        input_budget = str(input(\"What is your budget for the trip? (high, medium, high, random): \")).lower()\n",
    "\n",
    "        if (input_budget in valid_budget):\n",
    "            self.user_preferences[\"budget\"] = input_budget\n",
    "        else:\n",
    "            # this is just for testing. User will choose their preferences with options from the app\n",
    "            print(\"invalid budget\")\n",
    "            self.fill_survey()\n",
    "\n",
    "        valid_distance = [\"low\", \"medium\", \"high\", \"random\"]\n",
    "        input_distance = str(input(\"How far are you will to travel? \")).lower()\n",
    "\n",
    "        if (input_budget in valid_distance):\n",
    "            self.user_preferences[\"distance\"] = input_distance\n",
    "        else:\n",
    "            print(\"invalid distance\")\n",
    "            self.fill_survey()\n",
    "        \n",
    "\n",
    "        valid_city = [\"jakarta\", \"bandung\", \"jogja\", \"semarang\", \"surabaya\"]\n",
    "        input_city = str(input(\"What is your preferred city?\")).lower()\n",
    "\n",
    "        if (input_city in valid_city):\n",
    "            self.user_preferences[\"city\"] = input_city\n",
    "        else:\n",
    "            print(\"invalid city\")\n",
    "            self.fill_survey()\n"
   ]
  },
  {
   "cell_type": "code",
   "execution_count": 10,
   "metadata": {},
   "outputs": [
    {
     "name": "stdout",
     "output_type": "stream",
     "text": [
      "Please answer the following questions to help us provide relevant recommendations:\n"
     ]
    },
    {
     "data": {
      "text/plain": [
       "{'budget': 'high', 'distance': 'high', 'city': 'jakarta'}"
      ]
     },
     "execution_count": 10,
     "metadata": {},
     "output_type": "execute_result"
    }
   ],
   "source": [
    "user_1 = Preparation()\n",
    "user_1.user_preferences\n"
   ]
  },
  {
   "attachments": {},
   "cell_type": "markdown",
   "metadata": {},
   "source": [
    "# Recommendation based on constraint"
   ]
  },
  {
   "attachments": {},
   "cell_type": "markdown",
   "metadata": {},
   "source": [
    "# Recommendation based on Collaborative filtering"
   ]
  },
  {
   "attachments": {},
   "cell_type": "markdown",
   "metadata": {},
   "source": [
    "# Hybridization model"
   ]
  }
 ],
 "metadata": {
  "kernelspec": {
   "display_name": "base",
   "language": "python",
   "name": "python3"
  },
  "language_info": {
   "codemirror_mode": {
    "name": "ipython",
    "version": 3
   },
   "file_extension": ".py",
   "mimetype": "text/x-python",
   "name": "python",
   "nbconvert_exporter": "python",
   "pygments_lexer": "ipython3",
   "version": "3.9.12"
  },
  "orig_nbformat": 4
 },
 "nbformat": 4,
 "nbformat_minor": 2
}
